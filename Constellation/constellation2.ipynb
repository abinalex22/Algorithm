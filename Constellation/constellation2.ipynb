{
 "cells": [
  {
   "cell_type": "code",
   "execution_count": null,
   "metadata": {},
   "outputs": [
    {
     "data": {
      "text/html": [
       "<div id=\"glowscript\" class=\"glowscript\"></div>"
      ],
      "text/plain": [
       "<IPython.core.display.HTML object>"
      ]
     },
     "metadata": {},
     "output_type": "display_data"
    },
    {
     "data": {
      "application/javascript": [
       "if (typeof Jupyter !== \"undefined\") { window.__context = { glowscript_container: $(\"#glowscript\").removeAttr(\"id\")};}else{ element.textContent = ' ';}"
      ],
      "text/plain": [
       "<IPython.core.display.Javascript object>"
      ]
     },
     "metadata": {},
     "output_type": "display_data"
    },
    {
     "data": {
      "text/html": [
       "<div id=\"glowscript\" class=\"glowscript\"></div>"
      ],
      "text/plain": [
       "<IPython.core.display.HTML object>"
      ]
     },
     "metadata": {},
     "output_type": "display_data"
    },
    {
     "data": {
      "application/javascript": [
       "if (typeof Jupyter !== \"undefined\") { window.__context = { glowscript_container: $(\"#glowscript\").removeAttr(\"id\")};}else{ element.textContent = ' ';}"
      ],
      "text/plain": [
       "<IPython.core.display.Javascript object>"
      ]
     },
     "metadata": {},
     "output_type": "display_data"
    },
    {
     "data": {
      "application/javascript": [
       "if (typeof Jupyter !== \"undefined\") {require.undef(\"nbextensions/vpython_libraries/glow.min\");}else{element.textContent = ' ';}"
      ],
      "text/plain": [
       "<IPython.core.display.Javascript object>"
      ]
     },
     "metadata": {},
     "output_type": "display_data"
    },
    {
     "data": {
      "application/javascript": [
       "if (typeof Jupyter !== \"undefined\") {require.undef(\"nbextensions/vpython_libraries/glowcomm\");}else{element.textContent = ' ';}"
      ],
      "text/plain": [
       "<IPython.core.display.Javascript object>"
      ]
     },
     "metadata": {},
     "output_type": "display_data"
    },
    {
     "data": {
      "application/javascript": [
       "if (typeof Jupyter !== \"undefined\") {require.undef(\"nbextensions/vpython_libraries/jquery-ui.custom.min\");}else{element.textContent = ' ';}"
      ],
      "text/plain": [
       "<IPython.core.display.Javascript object>"
      ]
     },
     "metadata": {},
     "output_type": "display_data"
    },
    {
     "data": {
      "application/javascript": [
       "if (typeof Jupyter !== \"undefined\") {require([\"nbextensions/vpython_libraries/glow.min\"], function(){console.log(\"GLOW LOADED\");});}else{element.textContent = ' ';}"
      ],
      "text/plain": [
       "<IPython.core.display.Javascript object>"
      ]
     },
     "metadata": {},
     "output_type": "display_data"
    },
    {
     "data": {
      "application/javascript": [
       "if (typeof Jupyter !== \"undefined\") {require([\"nbextensions/vpython_libraries/glowcomm\"], function(){console.log(\"GLOWCOMM LOADED\");});}else{element.textContent = ' ';}"
      ],
      "text/plain": [
       "<IPython.core.display.Javascript object>"
      ]
     },
     "metadata": {},
     "output_type": "display_data"
    },
    {
     "data": {
      "application/javascript": [
       "if (typeof Jupyter !== \"undefined\") {require([\"nbextensions/vpython_libraries/jquery-ui.custom.min\"], function(){console.log(\"JQUERY LOADED\");});}else{element.textContent = ' ';}"
      ],
      "text/plain": [
       "<IPython.core.display.Javascript object>"
      ]
     },
     "metadata": {},
     "output_type": "display_data"
    }
   ],
   "source": [
    "from __future__ import division, print_function\n",
    "from vpython import *\n",
    "import math\n",
    "\n",
    "# Right button drag or Ctrl-drag to rotate \"camera\" to view scene.\n",
    "# To zoom, drag with middle button or Alt/Option depressed, or use scroll wheel.\n",
    "#  On a two-button mouse, middle is left + right.\n",
    "\n",
    "scene= canvas(title= \"arshita\")\n",
    "\n",
    "G= 6.7e-11\n",
    "\n",
    "#Function to give class Planet by use of init method\n",
    "\n",
    "class Planet:\n",
    "    def __init__(self,mass,radius,position,color):\n",
    "        self.mass= mass\n",
    "        self.position= position\n",
    "        self.radius= radius\n",
    "        self.color= color\n",
    "        s= sphere(mass= self.mass, radius= self.radius, pos=self.position, color=self.color)\n",
    "        \n",
    "#Representing Earth and Moon on the 3D scene\n",
    "            \n",
    "earth= Planet(5.98e24,6.4e6,vector(0,0,0),color.blue)\n",
    "\n",
    "#moon= Planet(0.07346e24,1.736e6,vector(0,378e6+6.4e6,0),color.white)\n",
    "\n",
    "#class Satellite with additional parameters along with adding additional wings and cone\n",
    "\n",
    "class EnhancedSatellite:\n",
    "    def __init__(self, planet, speed, position, size, color, degree):\n",
    "        self.planet= planet\n",
    "        self.speed= speed\n",
    "        self.position= position\n",
    "        self.s= sphere(pos= self.position, radius= size, color= color, make_trail=True)\n",
    "        self.mybox= box(pos=self.s.pos, axis= vector(1,0,0), height= 5e6, length= 5e5, width= 1e6)\n",
    "        self.degree= degree\n",
    "        self.cone= cone(pos= vector(0,0,0), axis=self.s.pos, radius= mag(self.s.pos)*math.tan(math.radians(self.degree)/2), color= color)\n",
    "    \n",
    "#updating parameters with position dt\n",
    "\n",
    "    def update_position(self,dt):\n",
    "            r= self.s.pos\n",
    "            a = G * self.planet.mass * norm(r) / mag2(r)\n",
    "            self.speed= self.speed- a*dt\n",
    "            self.s.pos= self.s.pos+ self.speed*dt\n",
    "            self.mybox.pos= self.mybox.pos+ (self.speed*dt)\n",
    "            #self.mybox.axis= self.mybox.length* norm(r)\n",
    "            self.cone.axis= self.cone.axis+ (self.speed*dt)          \n",
    "            \n",
    "MEOSat= EnhancedSatellite(earth,vector(sqrt(G*earth.mass/mag(vector(0,26.4e6,0))),0,0),vector(0,26.4e6,0),1e6,color.green, 12)\n",
    "\n",
    "velocity1= rotate(MEOSat.speed,angle=math.radians(45), axis=vector(0,1,0))\n",
    "velocity2= rotate(MEOSat.speed,angle=math.radians(90), axis=vector(0,1,0))\n",
    "velocity3= rotate(MEOSat.speed,angle=math.radians(135), axis=vector(0,1,0))\n",
    "\n",
    "MEOSat1= EnhancedSatellite(earth, rotate(MEOSat.speed,angle=math.radians(120), axis=vector(0,0,1)), rotate(MEOSat.position, angle= math.radians(120), axis= vector(0,0,1)),1e6,color.green,12)\n",
    "MEOSat2= EnhancedSatellite(earth, rotate(MEOSat.speed,angle=math.radians(240), axis= vector(0,0,1)),rotate(MEOSat.position,angle=math.radians(240), axis=vector(0,0,1)), 1e6,color.green,12)\n",
    "MEOSat3 = EnhancedSatellite(earth, velocity1, vector(0,26.4e6,0),1e6, color.yellow, 12)\n",
    "MEOSat4= EnhancedSatellite(earth,rotate(velocity1,angle=math.radians(120), axis= vector(1,0,1)),rotate(MEOSat.position,angle=math.radians(120), axis=vector(1,0,1)), 1e6,color.yellow,12)\n",
    "MEOSat5= EnhancedSatellite(earth,rotate(velocity1,angle=math.radians(240),axis= vector(1,0,1)),rotate(MEOSat.position,angle=math.radians(240), axis=vector(1,0,1)), 1e6,color.yellow,12)\n",
    "MEOSat9= EnhancedSatellite(earth,velocity3,vector(0,26.4e6,0), 1e6, color.yellow, 12)\n",
    "MEOSat10= EnhancedSatellite(earth,rotate(velocity3,angle=math.radians(120), axis= vector(1,0,-1)),rotate(MEOSat.position,angle=math.radians(120), axis=vector(1,0,-1)), 1e6,color.yellow,12)\n",
    "MEOSat11= EnhancedSatellite(earth,rotate(velocity3,angle=math.radians(240), axis= vector(1,0,-1)),rotate(MEOSat.position,angle=math.radians(240), axis=vector(1,0,-1)), 1e6,color.yellow,12)\n",
    "MEOSat6= EnhancedSatellite(earth,velocity2, vector(0,26.4e6,0),1e6, color.red, 12)\n",
    "MEOSat7= EnhancedSatellite(earth, rotate(velocity2,angle=math.radians(120), axis= vector(1,0,0)),rotate(MEOSat.position,angle=math.radians(120), axis=vector(1,0,0)), 1e6,color.red,12)\n",
    "MEOSat8= EnhancedSatellite(earth, rotate(velocity2,angle=math.radians(240), axis= vector(1,0,0)),rotate(MEOSat.position,angle=math.radians(240), axis=vector(1,0,0)), 1e6,color.red,12)\n",
    "                            \n",
    "while True:\n",
    "    rate(100)\n",
    "    MEOSat.update_position(20)\n",
    "    MEOSat1.update_position(20)    \n",
    "    MEOSat2.update_position(20)\n",
    "    MEOSat3.update_position(20)\n",
    "    MEOSat4.update_position(20)\n",
    "    MEOSat5.update_position(20)\n",
    "    MEOSat6.update_position(20)\n",
    "    MEOSat7.update_position(20)\n",
    "    MEOSat8.update_position(20)\n",
    "    MEOSat9.update_position(20)\n",
    "    MEOSat10.update_position(20)\n",
    "    MEOSat11.update_position(20)                            "
   ]
  },
  {
   "cell_type": "code",
   "execution_count": null,
   "metadata": {},
   "outputs": [],
   "source": [
    "\n",
    "\n",
    "\n",
    "\n",
    "                           \n",
    "\n",
    "                           \n"
   ]
  },
  {
   "cell_type": "code",
   "execution_count": null,
   "metadata": {},
   "outputs": [],
   "source": [
    "\n",
    "\n"
   ]
  }
 ],
 "metadata": {
  "kernelspec": {
   "display_name": "Python 3",
   "language": "python",
   "name": "python3"
  },
  "language_info": {
   "codemirror_mode": {
    "name": "ipython",
    "version": 3
   },
   "file_extension": ".py",
   "mimetype": "text/x-python",
   "name": "python",
   "nbconvert_exporter": "python",
   "pygments_lexer": "ipython3",
   "version": "3.7.4"
  }
 },
 "nbformat": 4,
 "nbformat_minor": 2
}
