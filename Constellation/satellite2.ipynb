{
 "cells": [
  {
   "cell_type": "code",
   "execution_count": null,
   "metadata": {},
   "outputs": [
    {
     "data": {
      "text/html": [
       "<div id=\"glowscript\" class=\"glowscript\"></div>"
      ],
      "text/plain": [
       "<IPython.core.display.HTML object>"
      ]
     },
     "metadata": {},
     "output_type": "display_data"
    },
    {
     "data": {
      "application/javascript": [
       "if (typeof Jupyter !== \"undefined\") { window.__context = { glowscript_container: $(\"#glowscript\").removeAttr(\"id\")};}else{ element.textContent = ' ';}"
      ],
      "text/plain": [
       "<IPython.core.display.Javascript object>"
      ]
     },
     "metadata": {},
     "output_type": "display_data"
    },
    {
     "data": {
      "text/html": [
       "<div id=\"glowscript\" class=\"glowscript\"></div>"
      ],
      "text/plain": [
       "<IPython.core.display.HTML object>"
      ]
     },
     "metadata": {},
     "output_type": "display_data"
    },
    {
     "data": {
      "application/javascript": [
       "if (typeof Jupyter !== \"undefined\") { window.__context = { glowscript_container: $(\"#glowscript\").removeAttr(\"id\")};}else{ element.textContent = ' ';}"
      ],
      "text/plain": [
       "<IPython.core.display.Javascript object>"
      ]
     },
     "metadata": {},
     "output_type": "display_data"
    },
    {
     "data": {
      "application/javascript": [
       "if (typeof Jupyter !== \"undefined\") {require.undef(\"nbextensions/vpython_libraries/glow.min\");}else{element.textContent = ' ';}"
      ],
      "text/plain": [
       "<IPython.core.display.Javascript object>"
      ]
     },
     "metadata": {},
     "output_type": "display_data"
    },
    {
     "data": {
      "application/javascript": [
       "if (typeof Jupyter !== \"undefined\") {require.undef(\"nbextensions/vpython_libraries/glowcomm\");}else{element.textContent = ' ';}"
      ],
      "text/plain": [
       "<IPython.core.display.Javascript object>"
      ]
     },
     "metadata": {},
     "output_type": "display_data"
    },
    {
     "data": {
      "application/javascript": [
       "if (typeof Jupyter !== \"undefined\") {require.undef(\"nbextensions/vpython_libraries/jquery-ui.custom.min\");}else{element.textContent = ' ';}"
      ],
      "text/plain": [
       "<IPython.core.display.Javascript object>"
      ]
     },
     "metadata": {},
     "output_type": "display_data"
    },
    {
     "data": {
      "application/javascript": [
       "if (typeof Jupyter !== \"undefined\") {require([\"nbextensions/vpython_libraries/glow.min\"], function(){console.log(\"GLOW LOADED\");});}else{element.textContent = ' ';}"
      ],
      "text/plain": [
       "<IPython.core.display.Javascript object>"
      ]
     },
     "metadata": {},
     "output_type": "display_data"
    },
    {
     "data": {
      "application/javascript": [
       "if (typeof Jupyter !== \"undefined\") {require([\"nbextensions/vpython_libraries/glowcomm\"], function(){console.log(\"GLOWCOMM LOADED\");});}else{element.textContent = ' ';}"
      ],
      "text/plain": [
       "<IPython.core.display.Javascript object>"
      ]
     },
     "metadata": {},
     "output_type": "display_data"
    },
    {
     "data": {
      "application/javascript": [
       "if (typeof Jupyter !== \"undefined\") {require([\"nbextensions/vpython_libraries/jquery-ui.custom.min\"], function(){console.log(\"JQUERY LOADED\");});}else{element.textContent = ' ';}"
      ],
      "text/plain": [
       "<IPython.core.display.Javascript object>"
      ]
     },
     "metadata": {},
     "output_type": "display_data"
    }
   ],
   "source": [
    "from __future__ import division, print_function\n",
    "from vpython import *\n",
    "import math\n",
    "\n",
    "# Right button drag or Ctrl-drag to rotate \"camera\" to view scene.\n",
    "# To zoom, drag with middle button or Alt/Option depressed, or use scroll wheel.\n",
    "# On a two-button mouse, middle is left + right.\n",
    "\n",
    "scene = canvas(title = \"Abin Alex\")\n",
    "class Planet:\n",
    "    def __init__(self,mass,radius,position,colour):\n",
    "        self.mass= mass\n",
    "        self.position= position\n",
    "        self.radius= radius\n",
    "        self.colour= colour\n",
    "        s= sphere(mass= self.mass, radius= self.radius, pos=self.position, color=self.colour)\n",
    "\n",
    "class Satellite:\n",
    "    def __init__(self, planet, speed, position, size, colour,degree):\n",
    "\n",
    "        self.planet= planet\n",
    "        self.speed= speed\n",
    "        self.size = size\n",
    "        self.degree= degree\n",
    "        self.s = sphere(pos = position, radius = size, color = colour)\n",
    "        self.mybox = box(pos=(self.s.pos),axis=vector(1,0,0), length=5e6,height=0.25e6,width=.5e6)\n",
    "        self.cone= cone(pos=(vector(0,0,0)), axis=(self.s.pos),radius=(math.tan(math.radians(self.degree/2)))*mag(self.s.pos),color=colour,opacity =0.5)\n",
    "        \n",
    "    def update_position(self,dt):\n",
    "        ra = self.s.pos\n",
    "        a = G * self.planet.mass * norm(ra) / mag2(ra)\n",
    "        self.speed= self.speed- a*dt\n",
    "        self.s.pos= self.s.pos+ self.speed*dt\n",
    "        self.mybox.pos =self.mybox.pos + self.speed*dt\n",
    "        self.cone.axis= self.cone.axis +self.speed*dt\n",
    "        \n",
    "        \n",
    "\n",
    "earth= Planet(5.98e24,6.4e6,vector(0,0,0),color.blue)\n",
    "\n",
    "moon= Planet(0.07346e24,1.736e6,vector(0,378e6+earth.radius,0),color.white)\n",
    "\n",
    "G = 6.7e-11        \n",
    "Rad = 1e6\n",
    "LeoPOS = vector(0,163e3 + earth.radius,0)\n",
    "MeoPOS = vector(0,20e6 + earth.radius,0)\n",
    "GeoPOS = vector(0,36e6 + earth.radius,0)\n",
    "\n",
    "LEOSat = Satellite(earth,vector(sqrt(G*earth.mass/mag(LeoPOS)),0,0),LeoPOS,Rad,color.yellow,60)\n",
    "MEOSat = Satellite(earth,vector(sqrt(G*earth.mass/mag(MeoPOS)),0,0),MeoPOS,Rad,color.green,12)\n",
    "GEOSat = Satellite(earth,vector(sqrt(G*earth.mass/mag(GeoPOS)),0,0),GeoPOS,Rad,color.orange,17)\n",
    "\n",
    "while True:\n",
    "    rate(100)\n",
    "    LEOSat.update_position(10)\n",
    "    MEOSat.update_position(10)\n",
    "    GEOSat.update_position(10)"
   ]
  },
  {
   "cell_type": "code",
   "execution_count": null,
   "metadata": {},
   "outputs": [
    {
     "data": {
      "text/html": [
       "<div id=\"glowscript\" class=\"glowscript\"></div>"
      ],
      "text/plain": [
       "<IPython.core.display.HTML object>"
      ]
     },
     "metadata": {},
     "output_type": "display_data"
    },
    {
     "data": {
      "application/javascript": [
       "if (typeof Jupyter !== \"undefined\") { window.__context = { glowscript_container: $(\"#glowscript\").removeAttr(\"id\")};}else{ element.textContent = ' ';}"
      ],
      "text/plain": [
       "<IPython.core.display.Javascript object>"
      ]
     },
     "metadata": {},
     "output_type": "display_data"
    }
   ],
   "source": [
    "from __future__ import division, print_function\n",
    "from vpython import *\n",
    "import math\n",
    "\n",
    "# Right button drag or Ctrl-drag to rotate \"camera\" to view scene.\n",
    "# To zoom, drag with middle button or Alt/Option depressed, or use scroll wheel.\n",
    "# On a two-button mouse, middle is left + right.\n",
    "\n",
    "scene= canvas(title= \"Abin\")\n",
    "\n",
    "G= 6.7e-11\n",
    "\n",
    "class Planet:\n",
    "    def __init__(self,mass,radius,position,color):\n",
    "        self.mass= mass\n",
    "        self.position= position\n",
    "        self.radius= radius\n",
    "        self.color= color\n",
    "        s= sphere(mass= self.mass, radius= self.radius, pos=self.position, color=self.color)\n",
    "\n",
    "earth= Planet(5.98e24,6.4e6,vector(0,0,0),color.blue)\n",
    "\n",
    "moon= Planet(0.07346e24,1.736e6,vector(0,378e6+6.4e6,0),color.white)\n",
    "\n",
    "class Satellite:\n",
    "    def __init__(self, planet, speed, position, size, color):\n",
    "        self.planet= planet\n",
    "        self.speed= speed\n",
    "        self.s= sphere(pos= position, radius= size, color= color)\n",
    "\n",
    "    def update_position(self,dt):\n",
    "        r= self.s.pos\n",
    "        a = G * self.planet.mass * norm(r) / mag2(r)\n",
    "        self.speed= self.speed- a*dt\n",
    "        self.s.pos= self.s.pos+ self.speed*dt\n",
    "\n",
    "LEOSat= Satellite(earth,vector(sqrt(G*earth.mass/mag(vector(0,163e3+6.4e6,0))),0,0),vector(0,163e3+6.4e6,0),1e6,color.yellow)\n",
    "\n",
    "MEOSat= Satellite(earth,vector(sqrt(G*earth.mass/mag(vector(0,26.4e6,0))),0,0),vector(0,26.4e6,0),1e6,color.orange)\n",
    "\n",
    "GEOSat= Satellite(earth,vector(sqrt(G*earth.mass/mag(vector(0,42.4e6,0))),0,0),vector(0,42.4e6,0),1e6,color.green)\n",
    "\n",
    "while True:\n",
    "    rate(100)\n",
    "    LEOSat.update_position(10)\n",
    "    MEOSat.update_position(10)\n",
    "    GEOSat.update_position(10)"
   ]
  },
  {
   "cell_type": "code",
   "execution_count": null,
   "metadata": {},
   "outputs": [],
   "source": []
  }
 ],
 "metadata": {
  "kernelspec": {
   "display_name": "Python 3",
   "language": "python",
   "name": "python3"
  },
  "language_info": {
   "codemirror_mode": {
    "name": "ipython",
    "version": 3
   },
   "file_extension": ".py",
   "mimetype": "text/x-python",
   "name": "python",
   "nbconvert_exporter": "python",
   "pygments_lexer": "ipython3",
   "version": "3.8.3"
  }
 },
 "nbformat": 4,
 "nbformat_minor": 2
}
