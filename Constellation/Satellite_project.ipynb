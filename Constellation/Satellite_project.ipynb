{
 "cells": [
  {
   "cell_type": "markdown",
   "metadata": {},
   "source": [
    "first vp1"
   ]
  },
  {
   "cell_type": "code",
   "execution_count": null,
   "metadata": {
    "scrolled": true
   },
   "outputs": [],
   "source": [
    "from vpython import *\n",
    "from math import *\n",
    "Earth = sphere(pos=vector(0,0,0), radius=6.4e6, color=color.blue)\n",
    "Moon =  sphere(pos=vector(0,163e3 + 6.4e6,0), radius=1e6, color=color.white,\n",
    "              make_trail=True, trail_type='points', interval=10, retain=40)\n",
    "\n",
    "Me = 5.98e24 \n",
    "G = 6.7e-11\n",
    "R = Earth.pos -Moon.pos\n",
    "vSat = sqrt((G*Me)/mag(R))\n",
    "v = vector(vSat,0,0)\n",
    "dt = 10\n",
    "while True:\n",
    "    rate(100)\n",
    "    r =Earth.pos -Moon.pos    \n",
    "    a = ((Me*G)*norm(r)/mag2(r))\n",
    "    v = v + a*dt\n",
    "    Moon.pos = Moon.pos + v*dt\n",
    "\n",
    "# displays <2 4 6>\n"
   ]
  },
  {
   "cell_type": "code",
   "execution_count": null,
   "metadata": {
    "scrolled": true
   },
   "outputs": [
    {
     "data": {
      "text/html": [
       "<div id=\"glowscript\" class=\"glowscript\"></div>"
      ],
      "text/plain": [
       "<IPython.core.display.HTML object>"
      ]
     },
     "metadata": {},
     "output_type": "display_data"
    },
    {
     "data": {
      "application/javascript": [
       "if (typeof Jupyter !== \"undefined\") { window.__context = { glowscript_container: $(\"#glowscript\").removeAttr(\"id\")};}else{ element.textContent = ' ';}"
      ],
      "text/plain": [
       "<IPython.core.display.Javascript object>"
      ]
     },
     "metadata": {},
     "output_type": "display_data"
    },
    {
     "data": {
      "application/javascript": [
       "if (typeof Jupyter !== \"undefined\") {require.undef(\"nbextensions/vpython_libraries/glow.min\");}else{element.textContent = ' ';}"
      ],
      "text/plain": [
       "<IPython.core.display.Javascript object>"
      ]
     },
     "metadata": {},
     "output_type": "display_data"
    },
    {
     "data": {
      "application/javascript": [
       "if (typeof Jupyter !== \"undefined\") {require.undef(\"nbextensions/vpython_libraries/glowcomm\");}else{element.textContent = ' ';}"
      ],
      "text/plain": [
       "<IPython.core.display.Javascript object>"
      ]
     },
     "metadata": {},
     "output_type": "display_data"
    },
    {
     "data": {
      "application/javascript": [
       "if (typeof Jupyter !== \"undefined\") {require.undef(\"nbextensions/vpython_libraries/jquery-ui.custom.min\");}else{element.textContent = ' ';}"
      ],
      "text/plain": [
       "<IPython.core.display.Javascript object>"
      ]
     },
     "metadata": {},
     "output_type": "display_data"
    },
    {
     "data": {
      "application/javascript": [
       "if (typeof Jupyter !== \"undefined\") {require([\"nbextensions/vpython_libraries/glow.min\"], function(){console.log(\"GLOW LOADED\");});}else{element.textContent = ' ';}"
      ],
      "text/plain": [
       "<IPython.core.display.Javascript object>"
      ]
     },
     "metadata": {},
     "output_type": "display_data"
    },
    {
     "data": {
      "application/javascript": [
       "if (typeof Jupyter !== \"undefined\") {require([\"nbextensions/vpython_libraries/glowcomm\"], function(){console.log(\"GLOWCOMM LOADED\");});}else{element.textContent = ' ';}"
      ],
      "text/plain": [
       "<IPython.core.display.Javascript object>"
      ]
     },
     "metadata": {},
     "output_type": "display_data"
    },
    {
     "data": {
      "application/javascript": [
       "if (typeof Jupyter !== \"undefined\") {require([\"nbextensions/vpython_libraries/jquery-ui.custom.min\"], function(){console.log(\"JQUERY LOADED\");});}else{element.textContent = ' ';}"
      ],
      "text/plain": [
       "<IPython.core.display.Javascript object>"
      ]
     },
     "metadata": {},
     "output_type": "display_data"
    }
   ],
   "source": [
    "from vpython import *\n",
    "from math import *\n",
    "Earth = sphere(pos=vector(0,0,0), radius=6.4e6, color=color.blue)\n",
    "MEO =  sphere(pos=vector(0,20e6 + 6.4e6,0), radius=1e6, color=color.white,\n",
    "              make_trail=True, trail_type='points', interval=10, retain=40)\n",
    "LEO =  sphere(pos=vector(0,163e3 + 6.4e6,0), radius=1e6, color=color.green,\n",
    "              make_trail=True, trail_type='points', interval=10, retain=40)\n",
    "GEO =  sphere(pos=vector(0,36e6 + 6.4e6,0), radius=1e6, color=color.red,\n",
    "              make_trail=True, trail_type='points', interval=10, retain=40)\n",
    "\n",
    "\n",
    "G = 6.7e-11\n",
    "Me = 5.98e24 \n",
    "#position\n",
    "RMEO= Earth.pos -MEO.pos\n",
    "RLEO= Earth.pos -LEO.pos\n",
    "RGEO= Earth.pos -GEO.pos\n",
    "\n",
    "#initial velocity\n",
    "VMEO = sqrt((G*Me)/mag(RMEO))\n",
    "vMEO = vector(VMEO,0,0)\n",
    "VLEO = sqrt((G*Me)/mag(RLEO))\n",
    "vLEO = vector(VLEO,0,0)\n",
    "VGEO = sqrt((G*Me)/mag(RGEO))\n",
    "vGEO = vector(VGEO,0,0)\n",
    "\n",
    "\n",
    "dt = 10\n",
    "while True:\n",
    "    rate(100)\n",
    "    rMEO=Earth.pos -MEO.pos\n",
    "    aMEO = ((Me*G)/mag2(rMEO))*norm(rMEO)\n",
    "    vMEO = vMEO + aMEO*dt\n",
    "    MEO.pos = MEO.pos + vMEO*dt\n",
    "    \n",
    "\n",
    "    rGEO=Earth.pos -GEO.pos\n",
    "    aGEO = ((Me*G)/mag2(rGEO))*norm(rGEO)\n",
    "    vGEO = vGEO + aGEO*dt\n",
    "    GEO.pos = GEO.pos + vGEO*dt\n",
    "    \n",
    "\n",
    "    rLEO=Earth.pos -LEO.pos\n",
    "    aLEO = ((Me*G)/mag2(rLEO))*norm(rLEO)\n",
    "    vLEO = vLEO + aLEO*dt\n",
    "    LEO.pos = LEO.pos + vLEO*dt\n",
    "    "
   ]
  },
  {
   "cell_type": "code",
   "execution_count": null,
   "metadata": {
    "scrolled": true
   },
   "outputs": [],
   "source": []
  }
 ],
 "metadata": {
  "kernelspec": {
   "display_name": "Python 3",
   "language": "python",
   "name": "python3"
  },
  "language_info": {
   "codemirror_mode": {
    "name": "ipython",
    "version": 3
   },
   "file_extension": ".py",
   "mimetype": "text/x-python",
   "name": "python",
   "nbconvert_exporter": "python",
   "pygments_lexer": "ipython3",
   "version": "3.8.3"
  }
 },
 "nbformat": 4,
 "nbformat_minor": 2
}
