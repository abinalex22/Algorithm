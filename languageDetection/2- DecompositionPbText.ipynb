{
 "cells": [
  {
   "cell_type": "markdown",
   "metadata": {},
   "source": [
    "To solve a problem, the first step is to try to decompose it into several sub-problems. Then each sub-problems can be  decomposed into smaller sub-problems and so on...\n",
    "\n",
    "Recall that the subject of the project is the folowing : \n",
    "\n",
    "_The aim of this project is to analyse a text in order to detect its language. For that, we propose to find the occurrence frequencies of the characters in the text. We will considered these frequencies as a  probability distribution that will be used for several purposes :_\n",
    "* _detect the language of this text by comparing this distribution with several distribution probabilities of  languages (english, french, spanish, ...)_\n",
    "* _compress this text by using a compression algorithm (Huffman coding) based on this probability distribution_\n",
    "\n",
    "\n",
    "The exercice proposed in this notebook is simply to decompose the global problem (the project) into sub-projects. Then, do the same for each sub-problems and so on. This decomposition must be written in natural language (english) in a new Markdown cell.  \n",
    "\n",
    "Of course, some parts of the algorithm could not be clear (for example, you probably don't known yet the Huffman algorithm), so for these parts, keep a high level of description and focus on the other ones."
   ]
  },
  {
   "cell_type": "markdown",
   "metadata": {},
   "source": [
    "Step\n",
    "1: replace the blank spaces  and special characters other than alphabets (e.g. ; &'(-_=) etc.) between the words with  empty saqces\n",
    "2:break down the text into individual characters and store it in a dictionary\n",
    "3: we run the probability distribution and rank them based on the characters we parse by iterating it  index  by index.\n",
    "4: implement Kullback–Leibler (KL) divergence comparing the frequency distribution\n",
    "7: Print the name of the language with minimum divergence to our known texts\n"
   ]
  },
  {
   "cell_type": "markdown",
   "metadata": {},
   "source": [
    "I/P : wei heißen sie?\n",
    " \n",
    "Process: ßeeeehiiinsw\n",
    "         probabilty of ß in German 1. Spanish 0 , English 0.... etc for each characters\n",
    "O/P : German"
   ]
  }
 ],
 "metadata": {
  "kernelspec": {
   "display_name": "Python 3",
   "language": "python",
   "name": "python3"
  },
  "language_info": {
   "codemirror_mode": {
    "name": "ipython",
    "version": 3
   },
   "file_extension": ".py",
   "mimetype": "text/x-python",
   "name": "python",
   "nbconvert_exporter": "python",
   "pygments_lexer": "ipython3",
   "version": "3.7.4"
  }
 },
 "nbformat": 4,
 "nbformat_minor": 2
}
